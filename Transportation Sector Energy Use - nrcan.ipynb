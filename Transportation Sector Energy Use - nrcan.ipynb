{
 "cells": [
  {
   "cell_type": "markdown",
   "metadata": {},
   "source": [
    "# Data cleaning"
   ]
  },
  {
   "cell_type": "markdown",
   "metadata": {},
   "source": [
    "### Imports\n",
    "Import libraries and write settings here."
   ]
  },
  {
   "cell_type": "code",
   "execution_count": 87,
   "metadata": {
    "ExecuteTime": {
     "end_time": "2020-12-07T03:03:36.289681Z",
     "start_time": "2020-12-07T03:03:35.568612Z"
    }
   },
   "outputs": [
    {
     "name": "stdout",
     "output_type": "stream",
     "text": [
      "The autoreload extension is already loaded. To reload it, use:\n",
      "  %reload_ext autoreload\n",
      "The dotenv extension is already loaded. To reload it, use:\n",
      "  %reload_ext dotenv\n"
     ]
    }
   ],
   "source": [
    "%load_ext autoreload\n",
    "%autoreload\n",
    "%load_ext dotenv\n",
    "%dotenv\n",
    "\n",
    "import pandas as pd\n",
    "import os\n",
    "import qgrid\n",
    "import ipywidgets\n",
    "import numpy as np"
   ]
  },
  {
   "cell_type": "markdown",
   "metadata": {},
   "source": [
    "### Set up extractions from each nrcan csv"
   ]
  },
  {
   "cell_type": "code",
   "execution_count": 187,
   "metadata": {},
   "outputs": [],
   "source": [
    "#extract target name from table name\n",
    "def substring_table(tableName):\n",
    "    start = tableName.find(\": \") + len(\": \")\n",
    "    end = tableName.find(\" Secondary\")\n",
    "    substring = tableName[start:end]\n",
    "    return substring\n",
    "\n",
    "#Concatenate table_id number\n",
    "def write_table_id(index):\n",
    "    table_id = 'tranca2017e_' + str(index)\n",
    "    return table_id\n",
    "\n",
    "#add additional columns to table\n",
    "def add_target_metadata(df, targetName, table_id):\n",
    "    df.insert(1, 'Target', targetName)\n",
    "    df.insert(3, 'Units', 'Petajoules')\n",
    "    df.insert(4, 'Table ID', table_id)\n",
    "    return df\n",
    "\n",
    "def add_source_metadata(df, sourceName, table_id):\n",
    "    df.insert(0, 'Source', sourceName)\n",
    "    df.insert(3, 'Units', 'Petajoules')\n",
    "    df.insert(4, 'Table ID', table_id)\n",
    "    return df\n",
    "\n",
    "#extract only relevant data\n",
    "#note locations are hardcodes for nrcan files types -- all are equivalent\n",
    "def extract_relevant_data(df): \n",
    "    empty_index = df[df['Name'].isnull()].index.tolist()\n",
    "    last_i = empty_index[next(x[0] for x in enumerate(empty_index) if x[1] > 10)]\n",
    "    df = df.drop(df.iloc[:, 2:29], inplace = False, axis = 1)\n",
    "    df = df.iloc[12:last_i,:]\n",
    "    df = df.drop(0, axis = 1)\n",
    "    df , hybrid = find_subtitle_row(df)\n",
    "    #display(df)\n",
    "    return df, hybrid\n",
    "\n",
    "def find_subtitle_row(df):\n",
    "    index = df[df['Name'].str.contains(\"(PJ)\")].index\n",
    "    if index != 12:\n",
    "        hybrid = True\n",
    "    else:\n",
    "        hybrid = False\n",
    "        df = df.drop(index, axis = 0)\n",
    "    return df, hybrid\n",
    "\n",
    "def configure_source(df, index, targetName):\n",
    "    df.columns = ['Source', 'Value']\n",
    "    table_id = write_table_id(index)\n",
    "    df = add_target_metadata(df, targetName, table_id)\n",
    "    return df\n",
    "\n",
    "def configure_target(df, index, sourceName):\n",
    "    df.columns = ['Target', 'Value']\n",
    "    table_id = write_table_id(index)\n",
    "    df = add_source_metadata(df, sourceName, table_id)\n",
    "    return df\n",
    "\n",
    "def configure_hybrid(df, index, otherNode, source):\n",
    "    subT = df[df['Name'].str.contains('(PJ)')].index\n",
    "    sub_i = int(subT[0])\n",
    "    gen = df.iloc[0:(sub_i - 12),:]\n",
    "    df = df.iloc[(sub_i - 11):,:]\n",
    "    table_id = write_table_id(index)\n",
    "    gen.columns = ['Target', 'Value']\n",
    "    gen = add_source_metadata(gen, otherNode, table_id)\n",
    "    if source == True:\n",
    "        df.columns = ['Source', 'Value']\n",
    "        df = add_target_metadata(df, otherNode, table_id)\n",
    "    else:\n",
    "        df.columns = ['Target', 'Value']\n",
    "        df = add_source_metadata(df, otherNode, table_id)\n",
    "    return df, gen\n",
    "\n",
    "qgrid.enable()"
   ]
  },
  {
   "cell_type": "markdown",
   "metadata": {},
   "source": [
    "### Loop Through Tables and append to master df"
   ]
  },
  {
   "cell_type": "code",
   "execution_count": 188,
   "metadata": {
    "ExecuteTime": {
     "end_time": "2020-12-07T03:03:36.304227Z",
     "start_time": "2020-12-07T03:03:36.291715Z"
    },
    "scrolled": false
   },
   "outputs": [
    {
     "name": "stderr",
     "output_type": "stream",
     "text": [
      "/home/ssheeline/miniconda3/envs/supersankey/lib/python3.8/site-packages/pandas/core/strings.py:2001: UserWarning: This pattern has match groups. To actually get the groups, use str.extract.\n",
      "  return func(self, *args, **kwargs)\n",
      "/home/ssheeline/miniconda3/envs/supersankey/lib/python3.8/site-packages/pandas/core/strings.py:2001: UserWarning: This pattern has match groups. To actually get the groups, use str.extract.\n",
      "  return func(self, *args, **kwargs)\n",
      "/home/ssheeline/miniconda3/envs/supersankey/lib/python3.8/site-packages/pandas/core/strings.py:2001: UserWarning: This pattern has match groups. To actually get the groups, use str.extract.\n",
      "  return func(self, *args, **kwargs)\n",
      "/home/ssheeline/miniconda3/envs/supersankey/lib/python3.8/site-packages/pandas/core/strings.py:2001: UserWarning: This pattern has match groups. To actually get the groups, use str.extract.\n",
      "  return func(self, *args, **kwargs)\n",
      "/home/ssheeline/miniconda3/envs/supersankey/lib/python3.8/site-packages/pandas/core/strings.py:2001: UserWarning: This pattern has match groups. To actually get the groups, use str.extract.\n",
      "  return func(self, *args, **kwargs)\n",
      "/home/ssheeline/miniconda3/envs/supersankey/lib/python3.8/site-packages/pandas/core/strings.py:2001: UserWarning: This pattern has match groups. To actually get the groups, use str.extract.\n",
      "  return func(self, *args, **kwargs)\n",
      "/home/ssheeline/miniconda3/envs/supersankey/lib/python3.8/site-packages/pandas/core/strings.py:2001: UserWarning: This pattern has match groups. To actually get the groups, use str.extract.\n",
      "  return func(self, *args, **kwargs)\n",
      "/home/ssheeline/miniconda3/envs/supersankey/lib/python3.8/site-packages/pandas/core/strings.py:2001: UserWarning: This pattern has match groups. To actually get the groups, use str.extract.\n",
      "  return func(self, *args, **kwargs)\n",
      "/home/ssheeline/miniconda3/envs/supersankey/lib/python3.8/site-packages/pandas/core/strings.py:2001: UserWarning: This pattern has match groups. To actually get the groups, use str.extract.\n",
      "  return func(self, *args, **kwargs)\n",
      "/home/ssheeline/miniconda3/envs/supersankey/lib/python3.8/site-packages/pandas/core/strings.py:2001: UserWarning: This pattern has match groups. To actually get the groups, use str.extract.\n",
      "  return func(self, *args, **kwargs)\n",
      "<ipython-input-187-e2ce7343a336>:40: DeprecationWarning: The truth value of an empty array is ambiguous. Returning False, but in future this will result in an error. Use `array.size > 0` to check that an array is not empty.\n",
      "  if index != 12:\n",
      "/home/ssheeline/miniconda3/envs/supersankey/lib/python3.8/site-packages/pandas/core/strings.py:2001: UserWarning: This pattern has match groups. To actually get the groups, use str.extract.\n",
      "  return func(self, *args, **kwargs)\n",
      "/home/ssheeline/miniconda3/envs/supersankey/lib/python3.8/site-packages/pandas/core/strings.py:2001: UserWarning: This pattern has match groups. To actually get the groups, use str.extract.\n",
      "  return func(self, *args, **kwargs)\n",
      "/home/ssheeline/miniconda3/envs/supersankey/lib/python3.8/site-packages/pandas/core/strings.py:2001: UserWarning: This pattern has match groups. To actually get the groups, use str.extract.\n",
      "  return func(self, *args, **kwargs)\n",
      "/home/ssheeline/miniconda3/envs/supersankey/lib/python3.8/site-packages/pandas/core/strings.py:2001: UserWarning: This pattern has match groups. To actually get the groups, use str.extract.\n",
      "  return func(self, *args, **kwargs)\n",
      "/home/ssheeline/miniconda3/envs/supersankey/lib/python3.8/site-packages/pandas/core/strings.py:2001: UserWarning: This pattern has match groups. To actually get the groups, use str.extract.\n",
      "  return func(self, *args, **kwargs)\n",
      "/home/ssheeline/miniconda3/envs/supersankey/lib/python3.8/site-packages/pandas/core/strings.py:2001: UserWarning: This pattern has match groups. To actually get the groups, use str.extract.\n",
      "  return func(self, *args, **kwargs)\n",
      "/home/ssheeline/miniconda3/envs/supersankey/lib/python3.8/site-packages/pandas/core/strings.py:2001: UserWarning: This pattern has match groups. To actually get the groups, use str.extract.\n",
      "  return func(self, *args, **kwargs)\n",
      "/home/ssheeline/miniconda3/envs/supersankey/lib/python3.8/site-packages/pandas/core/strings.py:2001: UserWarning: This pattern has match groups. To actually get the groups, use str.extract.\n",
      "  return func(self, *args, **kwargs)\n",
      "/home/ssheeline/miniconda3/envs/supersankey/lib/python3.8/site-packages/pandas/core/strings.py:2001: UserWarning: This pattern has match groups. To actually get the groups, use str.extract.\n",
      "  return func(self, *args, **kwargs)\n",
      "/home/ssheeline/miniconda3/envs/supersankey/lib/python3.8/site-packages/pandas/core/strings.py:2001: UserWarning: This pattern has match groups. To actually get the groups, use str.extract.\n",
      "  return func(self, *args, **kwargs)\n",
      "<ipython-input-187-e2ce7343a336>:40: DeprecationWarning: The truth value of an empty array is ambiguous. Returning False, but in future this will result in an error. Use `array.size > 0` to check that an array is not empty.\n",
      "  if index != 12:\n",
      "/home/ssheeline/miniconda3/envs/supersankey/lib/python3.8/site-packages/pandas/core/strings.py:2001: UserWarning: This pattern has match groups. To actually get the groups, use str.extract.\n",
      "  return func(self, *args, **kwargs)\n",
      "/home/ssheeline/miniconda3/envs/supersankey/lib/python3.8/site-packages/pandas/core/strings.py:2001: UserWarning: This pattern has match groups. To actually get the groups, use str.extract.\n",
      "  return func(self, *args, **kwargs)\n",
      "/home/ssheeline/miniconda3/envs/supersankey/lib/python3.8/site-packages/pandas/core/strings.py:2001: UserWarning: This pattern has match groups. To actually get the groups, use str.extract.\n",
      "  return func(self, *args, **kwargs)\n",
      "/home/ssheeline/miniconda3/envs/supersankey/lib/python3.8/site-packages/pandas/core/strings.py:2001: UserWarning: This pattern has match groups. To actually get the groups, use str.extract.\n",
      "  return func(self, *args, **kwargs)\n",
      "/home/ssheeline/miniconda3/envs/supersankey/lib/python3.8/site-packages/pandas/core/strings.py:2001: UserWarning: This pattern has match groups. To actually get the groups, use str.extract.\n",
      "  return func(self, *args, **kwargs)\n",
      "<ipython-input-187-e2ce7343a336>:40: DeprecationWarning: The truth value of an empty array is ambiguous. Returning False, but in future this will result in an error. Use `array.size > 0` to check that an array is not empty.\n",
      "  if index != 12:\n"
     ]
    }
   ],
   "source": [
    "filePath = 'data/tranca2017e/tranCa2017e_'\n",
    "net_df = pd.DataFrame(columns=['Source','Target','Value','Units','Table ID'])\n",
    "net_gen = pd.DataFrame(columns=['Source','Target','Value','Units','Table ID'])\n",
    "\n",
    "#index through all tables in idca2017e folder\n",
    "for x in range(12,61):\n",
    "    fileIndex = str(x)\n",
    "    path = filePath + fileIndex + '.csv'\n",
    "    df = pd.read_csv(path, encoding='cp1252', header=None)\n",
    "    tableName = df.iloc[6,0]\n",
    "    sourceName = substring_table(tableName)\n",
    "    table_id = write_table_id(fileIndex)\n",
    "\n",
    "    #Determine if this table is communicating data by Region, by Energy Source, or by Transportation Mode\n",
    "    source = False\n",
    "    if 'by Region' not in tableName:\n",
    "        if 'by Energy Source' in tableName:\n",
    "            source = True\n",
    "            targetName = sourceName\n",
    "    else:\n",
    "        continue\n",
    "    \n",
    "    #extract first chunk of relevant data rows\n",
    "    df.rename(columns={1:'Name'}, inplace=True)\n",
    "    df, hybrid = extract_relevant_data(df)\n",
    "    df = df.dropna(axis=1, how='all')\n",
    "    if source == True and hybrid == False:\n",
    "        df = configure_source(df, x, targetName)\n",
    "    elif source == False and hybrid == False:\n",
    "        df = configure_target(df, x, sourceName)\n",
    "    else:\n",
    "        df, gen = configure_hybrid(df, x, sourceName, source)\n",
    "        net_gen = net_gen.append(gen)\n",
    "    net_df = net_df.append(df)"
   ]
  },
  {
   "cell_type": "code",
   "execution_count": 189,
   "metadata": {},
   "outputs": [],
   "source": [
    "df = net_df \n",
    "gen = net_gen"
   ]
  },
  {
   "cell_type": "markdown",
   "metadata": {},
   "source": [
    "### Drop hidden / na values"
   ]
  },
  {
   "cell_type": "code",
   "execution_count": 196,
   "metadata": {},
   "outputs": [
    {
     "data": {
      "application/vnd.jupyter.widget-view+json": {
       "model_id": "8dff45ee1b664682be9aceef336b98f4",
       "version_major": 2,
       "version_minor": 0
      },
      "text/plain": [
       "QgridWidget(grid_options={'fullWidthRows': True, 'syncColumnCellResize': True, 'forceFitColumns': True, 'defau…"
      ]
     },
     "metadata": {},
     "output_type": "display_data"
    },
    {
     "data": {
      "application/vnd.jupyter.widget-view+json": {
       "model_id": "774a2f180ca44e9aa66f57db82fc199e",
       "version_major": 2,
       "version_minor": 0
      },
      "text/plain": [
       "QgridWidget(grid_options={'fullWidthRows': True, 'syncColumnCellResize': True, 'forceFitColumns': True, 'defau…"
      ]
     },
     "metadata": {},
     "output_type": "display_data"
    }
   ],
   "source": [
    "# replace confidential labels and n/a with nan\n",
    "#def clean_compiled(df):\n",
    "df.replace(\"X\", np.nan, inplace=True)\n",
    "df.replace(\"n.a.\", np.nan, inplace=True)\n",
    "\n",
    "# Convert values to numeric\n",
    "#df['Value'] = pd.to_numeric(df['Value'])\n",
    "#return df\n",
    "\n",
    "#df = clean_compiled(df)\n",
    "#gen = clean_compiled(gen)\n",
    "\n",
    "display(df)\n",
    "display(gen)"
   ]
  },
  {
   "cell_type": "markdown",
   "metadata": {},
   "source": [
    "# Export data"
   ]
  },
  {
   "cell_type": "code",
   "execution_count": 197,
   "metadata": {},
   "outputs": [],
   "source": [
    "#export detailed data\n",
    "csvName = \"tranca2017e_compiled.csv\"\n",
    "df.to_csv(csvName, index=False)"
   ]
  },
  {
   "cell_type": "code",
   "execution_count": 198,
   "metadata": {},
   "outputs": [],
   "source": [
    "#export gen data\n",
    "csvName2 = \"tranca2017e_compiled_gen.csv\"\n",
    "gen.to_csv(csvName2, index=False)"
   ]
  }
 ],
 "metadata": {
  "kernelspec": {
   "display_name": "Python [conda env:supersankey] *",
   "language": "python",
   "name": "conda-env-supersankey-py"
  },
  "language_info": {
   "codemirror_mode": {
    "name": "ipython",
    "version": 3
   },
   "file_extension": ".py",
   "mimetype": "text/x-python",
   "name": "python",
   "nbconvert_exporter": "python",
   "pygments_lexer": "ipython3",
   "version": "3.8.6"
  },
  "toc": {
   "base_numbering": 1,
   "nav_menu": {},
   "number_sections": true,
   "sideBar": true,
   "skip_h1_title": false,
   "title_cell": "Table of Contents",
   "title_sidebar": "Contents",
   "toc_cell": false,
   "toc_position": {},
   "toc_section_display": true,
   "toc_window_display": false
  }
 },
 "nbformat": 4,
 "nbformat_minor": 4
}
